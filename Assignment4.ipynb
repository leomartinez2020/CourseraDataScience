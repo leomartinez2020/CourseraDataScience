{
 "cells": [
  {
   "cell_type": "markdown",
   "metadata": {},
   "source": [
    "---\n",
    "\n",
    "_You are currently looking at **version 1.1** of this notebook. To download notebooks and datafiles, as well as get help on Jupyter notebooks in the Coursera platform, visit the [Jupyter Notebook FAQ](https://www.coursera.org/learn/python-data-analysis/resources/0dhYG) course resource._\n",
    "\n",
    "---"
   ]
  },
  {
   "cell_type": "code",
   "execution_count": 4,
   "metadata": {
    "collapsed": true
   },
   "outputs": [],
   "source": [
    "import re\n",
    "import pandas as pd\n",
    "import numpy as np\n",
    "from scipy.stats import ttest_ind"
   ]
  },
  {
   "cell_type": "markdown",
   "metadata": {},
   "source": [
    "# Assignment 4 - Hypothesis Testing\n",
    "This assignment requires more individual learning than previous assignments - you are encouraged to check out the [pandas documentation](http://pandas.pydata.org/pandas-docs/stable/) to find functions or methods you might not have used yet, or ask questions on [Stack Overflow](http://stackoverflow.com/) and tag them as pandas and python related. And of course, the discussion forums are open for interaction with your peers and the course staff.\n",
    "\n",
    "Definitions:\n",
    "* A _quarter_ is a specific three month period, Q1 is January through March, Q2 is April through June, Q3 is July through September, Q4 is October through December.\n",
    "* A _recession_ is defined as starting with two consecutive quarters of GDP decline, and ending with two consecutive quarters of GDP growth.\n",
    "* A _recession bottom_ is the quarter within a recession which had the lowest GDP.\n",
    "* A _university town_ is a city which has a high percentage of university students compared to the total population of the city.\n",
    "\n",
    "**Hypothesis**: University towns have their mean housing prices less effected by recessions. Run a t-test to compare the ratio of the mean price of houses in university towns the quarter before the recession starts compared to the recession bottom. (`price_ratio=quarter_before_recession/recession_bottom`)\n",
    "\n",
    "The following data files are available for this assignment:\n",
    "* From the [Zillow research data site](http://www.zillow.com/research/data/) there is housing data for the United States. In particular the datafile for [all homes at a city level](http://files.zillowstatic.com/research/public/City/City_Zhvi_AllHomes.csv), ```City_Zhvi_AllHomes.csv```, has median home sale prices at a fine grained level.\n",
    "* From the Wikipedia page on college towns is a list of [university towns in the United States](https://en.wikipedia.org/wiki/List_of_college_towns#College_towns_in_the_United_States) which has been copy and pasted into the file ```university_towns.txt```.\n",
    "* From Bureau of Economic Analysis, US Department of Commerce, the [GDP over time](http://www.bea.gov/national/index.htm#gdp) of the United States in current dollars (use the chained value in 2009 dollars), in quarterly intervals, in the file ```gdplev.xls```. For this assignment, only look at GDP data from the first quarter of 2000 onward.\n",
    "\n",
    "Each function in this assignment below is worth 10%, with the exception of ```run_ttest()```, which is worth 50%."
   ]
  },
  {
   "cell_type": "code",
   "execution_count": 5,
   "metadata": {
    "collapsed": false
   },
   "outputs": [],
   "source": [
    "# Use this dictionary to map state names to two letter acronyms\n",
    "states = {'OH': 'Ohio', 'KY': 'Kentucky', 'AS': 'American Samoa', 'NV': 'Nevada', 'WY': 'Wyoming', 'NA': 'National', 'AL': 'Alabama', 'MD': 'Maryland', 'AK': 'Alaska', 'UT': 'Utah', 'OR': 'Oregon', 'MT': 'Montana', 'IL': 'Illinois', 'TN': 'Tennessee', 'DC': 'District of Columbia', 'VT': 'Vermont', 'ID': 'Idaho', 'AR': 'Arkansas', 'ME': 'Maine', 'WA': 'Washington', 'HI': 'Hawaii', 'WI': 'Wisconsin', 'MI': 'Michigan', 'IN': 'Indiana', 'NJ': 'New Jersey', 'AZ': 'Arizona', 'GU': 'Guam', 'MS': 'Mississippi', 'PR': 'Puerto Rico', 'NC': 'North Carolina', 'TX': 'Texas', 'SD': 'South Dakota', 'MP': 'Northern Mariana Islands', 'IA': 'Iowa', 'MO': 'Missouri', 'CT': 'Connecticut', 'WV': 'West Virginia', 'SC': 'South Carolina', 'LA': 'Louisiana', 'KS': 'Kansas', 'NY': 'New York', 'NE': 'Nebraska', 'OK': 'Oklahoma', 'FL': 'Florida', 'CA': 'California', 'CO': 'Colorado', 'PA': 'Pennsylvania', 'DE': 'Delaware', 'NM': 'New Mexico', 'RI': 'Rhode Island', 'MN': 'Minnesota', 'VI': 'Virgin Islands', 'NH': 'New Hampshire', 'MA': 'Massachusetts', 'GA': 'Georgia', 'ND': 'North Dakota', 'VA': 'Virginia'}"
   ]
  },
  {
   "cell_type": "code",
   "execution_count": 8,
   "metadata": {
    "collapsed": false
   },
   "outputs": [],
   "source": [
    "def get_list_of_university_towns():\n",
    "    '''Returns a DataFrame of towns and the states they are in from the \n",
    "    university_towns.txt list. The format of the DataFrame should be:\n",
    "    DataFrame( [ [\"Michigan\", \"Ann Arbor\"], [\"Michigan\", \"Yipsilanti\"] ], \n",
    "    columns=[\"State\", \"RegionName\"]  )\n",
    "    \n",
    "    The following cleaning needs to be done:\n",
    "\n",
    "    1. For \"State\", removing characters from \"[\" to the end.\n",
    "    2. For \"RegionName\", when applicable, removing every character from \" (\" to the end.\n",
    "    3. Depending on how you read the data, you may need to remove newline character '\\n'. '''\n",
    "    uni_file = open('university_towns.txt')\n",
    "    uni_text = uni_file.read()\n",
    "    uni_file.close()\n",
    "    lines = uni_text.split('\\n')\n",
    "    state_pattern = \"(.+)\\[edit\\]\"\n",
    "    region_pattern = \"(.+)\\(\"\n",
    "    #state_pattern = \"(\\w+\\s?\\w+?)\\[edit\\]\"\n",
    "    #region_pattern = \"(\\w+\\s?\\w+?-?\\w+)\\s?\\(\"\n",
    "    resp = []\n",
    "    for item in lines:\n",
    "        match1 = re.search(state_pattern, item)\n",
    "        if match1:\n",
    "            state = match1.group(1)\n",
    "        match2 = re.search(region_pattern, item)\n",
    "        if match2:\n",
    "            town = match2.group(1)\n",
    "            town = town.strip()\n",
    "            resp.append([state, town])\n",
    "        if match2 == None and match1 == None and len(item) != 0:\n",
    "            mytown = item.strip('\\n')\n",
    "            resp.append([state, mytown])\n",
    "    cols = ['State', 'RegionName']\n",
    "    answer1 = pd.DataFrame(resp, columns=cols)\n",
    "    return answer1\n",
    "\n",
    "totto = get_list_of_university_towns()"
   ]
  },
  {
   "cell_type": "code",
   "execution_count": 8,
   "metadata": {
    "collapsed": false
   },
   "outputs": [],
   "source": [
    "def get_recession_zeros(value):\n",
    "    \"\"\"\n",
    "    if pib decreases return zero otherwise return one\n",
    "    \"\"\"\n",
    "    if value < 0:\n",
    "        return 0\n",
    "    return 1\n",
    "\n",
    "def helper_function123(pib_data):\n",
    "    \"\"\"\n",
    "    creates pattern to detect recession start and end\n",
    "    input: pib series column from year1 to year2\n",
    "    ouput: a tuple with start and end index\n",
    "    \"\"\"\n",
    "    #bruto = pd.DataFrame({'quarters': conty, 'pib': pib_data})\n",
    "    bruto = pib_data\n",
    "    #bruto = bruto.rename(columns={'GDP in billions of chained 2009 dollars': 'pib'})\n",
    "    bruto.index = bruto.Quarterly.apply(pd.Period)\n",
    "    bruto['Changes'] = bruto.pib.diff()\n",
    "    bruto['Zeros'] = bruto.Changes.apply(get_recession_zeros)\n",
    "    cad = bruto.Zeros.map(lambda x: str(x)).str.cat()\n",
    "    inicio = \"00\"\n",
    "    fin = \"00.+?(11)\"\n",
    "    # cadspan shows the start and end of recession, it's a tuple\n",
    "    cadspan = re.search(fin, cad).span()\n",
    "    return cadspan\n",
    "\n",
    "def get_gdp_data():\n",
    "    gdp = pd.read_excel('gdplev.xls')\n",
    "    gdp = gdp.iloc[219:, [4,6]]\n",
    "    gdp.columns = ['Quarterly', 'GDP in billions of chained 2009 dollars']\n",
    "    gdp = gdp.reset_index()\n",
    "    del gdp['index']\n",
    "    gdp = gdp.rename(columns={'GDP in billions of chained 2009 dollars': 'pib'})\n",
    "    return gdp\n",
    "\n",
    "def get_recession_start():\n",
    "    '''Returns the year and quarter of the recession start time as a \n",
    "    string value in a format such as 2005q3'''\n",
    "    mydataframe = get_gdp_data()\n",
    "    recession_start = helper_function123(mydataframe)[0]\n",
    "    start = mydataframe.iloc[recession_start, 0]\n",
    "    return start"
   ]
  },
  {
   "cell_type": "code",
   "execution_count": 9,
   "metadata": {
    "collapsed": false
   },
   "outputs": [],
   "source": [
    "def get_recession_end():\n",
    "    '''Returns the year and quarter of the recession end time as a \n",
    "    string value in a format such as 2005q3'''\n",
    "    mydataframe = get_gdp_data()\n",
    "    recession_end = helper_function123(mydataframe)[1]\n",
    "    end = mydataframe.iloc[recession_end, 0]\n",
    "    return end"
   ]
  },
  {
   "cell_type": "code",
   "execution_count": 10,
   "metadata": {
    "collapsed": false
   },
   "outputs": [],
   "source": [
    "def get_recession_bottom():\n",
    "    '''Returns the year and quarter of the recession bottom time as a \n",
    "    string value in a format such as 2005q3'''\n",
    "    mydataframe = get_gdp_data()\n",
    "    cadspan = helper_function123(mydataframe)\n",
    "    recesion_min = mydataframe.loc[mydataframe.pib.iloc[cadspan[0]:cadspan[1]].argmin()].Quarterly\n",
    "    return recesion_min"
   ]
  },
  {
   "cell_type": "code",
   "execution_count": 11,
   "metadata": {
    "collapsed": false
   },
   "outputs": [],
   "source": [
    "def create_quarters():\n",
    "    \"\"\"\n",
    "    creates quarters names from year 2000\n",
    "    \"\"\"\n",
    "    quarters = []\n",
    "    for year in range(2000, 2017):\n",
    "        for quarter in ['q1', 'q2', 'q3', 'q4']:\n",
    "            elem = str(year) + quarter\n",
    "            quarters.append(elem)\n",
    "    return quarters\n",
    "\n",
    "def processdf(cols):\n",
    "    \"\"\"\n",
    "    converts monthly pib data to quarterly pib data, output is a dataframe\n",
    "    \"\"\"\n",
    "    cont = {}\n",
    "    fin = cols.shape[1]\n",
    "    xcols = create_quarters()\n",
    "    control = 0\n",
    "    for i in range(0, fin, 3):\n",
    "        try:\n",
    "            prom = cols.iloc[:, i:i+3].mean(axis=1)\n",
    "            cont[xcols[control]] = prom\n",
    "            control += 1\n",
    "        except IndexError:\n",
    "            control -= 1\n",
    "            prom = cols.iloc[:, i:].mean(axis=1)\n",
    "            cont[xcols[control]] = prom\n",
    "            #control += 1\n",
    "            break\n",
    "    dframe = pd.DataFrame(cont)\n",
    "    return dframe\n",
    "\n",
    "def convert_housing_data_to_quarters():\n",
    "    '''Converts the housing data to quarters and returns it as mean \n",
    "    values in a dataframe. This dataframe should be a dataframe with\n",
    "    columns for 2000q1 through 2016q3, and should have a multi-index\n",
    "    in the shape of [\"State\",\"RegionName\"].\n",
    "    \n",
    "    Note: Quarters are defined in the assignment description, they are\n",
    "    not arbitrary three month periods.\n",
    "    \n",
    "    The resulting dataframe should have 67 columns, and 10,730 rows.\n",
    "    '''\n",
    "    data = pd.read_csv('City_Zhvi_AllHomes.csv')\n",
    "    years_data = data.loc[:, '2000-01':]\n",
    "    quarters_data = processdf(years_data)\n",
    "    indices = data.loc[:, ['State', 'RegionName',]]\n",
    "    indices['State'] = indices['State'].map(lambda x: states[x])\n",
    "    resp = pd.concat([indices, quarters_data], axis=1)\n",
    "    resp = resp.sort_values('State')\n",
    "    resp = resp.set_index(['State', 'RegionName'])\n",
    "    return resp"
   ]
  },
  {
   "cell_type": "code",
   "execution_count": 12,
   "metadata": {
    "collapsed": false
   },
   "outputs": [],
   "source": [
    "def run_ttest():\n",
    "    '''First creates new data showing the decline or growth of housing prices\n",
    "    between the recession start and the recession bottom. Then runs a ttest\n",
    "    comparing the university town values to the non-university towns values, \n",
    "    return whether the alternative hypothesis (that the two groups are the same)\n",
    "    is true or not as well as the p-value of the confidence. \n",
    "    \n",
    "    Return the tuple (different, p, better) where different=True if the t-test is\n",
    "    True at a p<0.01 (we reject the null hypothesis), or different=False if \n",
    "    otherwise (we cannot reject the null hypothesis). The variable p should\n",
    "    be equal to the exact p value returned from scipy.stats.ttest_ind(). The\n",
    "    value for better should be either \"university town\" or \"non-university town\"\n",
    "    depending on which has a lower mean price ratio (which is equivilent to a\n",
    "    reduced market loss).'''\n",
    "    p_objective = 0.01\n",
    "    \n",
    "    data = convert_housing_data_to_quarters()\n",
    "    ul = get_list_of_university_towns()\n",
    "    indexlist = list(map(tuple,ul.values))\n",
    "    \n",
    "    quarters_list = create_quarters()\n",
    "    rec_start = get_recession_start()\n",
    "    quarter_before_rec = quarters_list[quarters_list.index(rec_start) - 1]\n",
    "    rec_bottom = get_recession_bottom()\n",
    "    #data['Changes'] = (data['2009q2'] - data['2008q3']).apply(show_decline_or_growth)\n",
    "    data['PriceRatio'] = data[quarter_before_rec].div(data[rec_bottom])\n",
    "    uni_towns = data.loc[indexlist]\n",
    "    non_uni_towns = data.loc[~data.index.isin(indexlist)]\n",
    "    scipy_ttest = ttest_ind(uni_towns.PriceRatio, non_uni_towns.PriceRatio, nan_policy='omit')\n",
    "    psvalue = scipy_ttest.pvalue\n",
    "    different = psvalue < p_objective\n",
    "    mean_price_ratio_univ = uni_towns.PriceRatio.mean()\n",
    "    non_mean_price_ratio_univ = non_uni_towns.PriceRatio.mean()\n",
    "    if mean_price_ratio_univ < non_mean_price_ratio_univ:\n",
    "        better = 'university town'\n",
    "    else:\n",
    "        better = 'non-university town'\n",
    "    return different, psvalue, better"
   ]
  },
  {
   "cell_type": "code",
   "execution_count": null,
   "metadata": {
    "collapsed": true
   },
   "outputs": [],
   "source": []
  }
 ],
 "metadata": {
  "coursera": {
   "course_slug": "python-data-analysis",
   "graded_item_id": "Il9Fx",
   "launcher_item_id": "TeDW0",
   "part_id": "WGlun"
  },
  "kernelspec": {
   "display_name": "Python 3",
   "language": "python",
   "name": "python3"
  },
  "language_info": {
   "codemirror_mode": {
    "name": "ipython",
    "version": 3
   },
   "file_extension": ".py",
   "mimetype": "text/x-python",
   "name": "python",
   "nbconvert_exporter": "python",
   "pygments_lexer": "ipython3",
   "version": "3.5.2"
  }
 },
 "nbformat": 4,
 "nbformat_minor": 0
}
