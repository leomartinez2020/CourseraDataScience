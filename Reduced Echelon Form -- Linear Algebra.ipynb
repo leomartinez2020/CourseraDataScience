{
 "cells": [
  {
   "cell_type": "code",
   "execution_count": 168,
   "metadata": {
    "collapsed": true
   },
   "outputs": [],
   "source": [
    "import pandas as pd\n",
    "import numpy as np"
   ]
  },
  {
   "cell_type": "markdown",
   "metadata": {},
   "source": [
    "### Un sistema de ecuaciones lineales se puede resolver reduciendo su forma aumentada. Por ejemplo:\n",
    "(Tomado de Wikipedia: [Enlace](https://en.wikibooks.org/wiki/Linear_Algebra/Row_Reduction_and_Echelon_Forms))"
   ]
  },
  {
   "cell_type": "markdown",
   "metadata": {},
   "source": [
    "$3x_{2} - 6x_{3} + 6x_{4} + 4x_{5} = -5$\n",
    "\n",
    "$3x_{1} - 7x_{2} + 8x_{3} - 5x_{4} + 8x_{5} = 9$\n",
    "\n",
    "$3x_{1} - 9x_{2} + 12x_{3} - 9x_{4} + 6x_{5} = 15$"
   ]
  },
  {
   "cell_type": "markdown",
   "metadata": {},
   "source": [
    "$$\\begin{bmatrix} 0 & 3 & -6 & 6 & 4 & -5 \\\\ 3 & -7 & 8 & -5 & 8 & 9 \\\\ 3 & -9 & 12 & -9 & 6 & 15 \\end{bmatrix}$$"
   ]
  },
  {
   "cell_type": "code",
   "execution_count": 156,
   "metadata": {
    "collapsed": true
   },
   "outputs": [],
   "source": [
    "coeffs = [[0, 3, -6, 6, 4, -5], [3, -7, 8, -5, 8, 9], [3, -9, 12, -9, 6, 15]]"
   ]
  },
  {
   "cell_type": "code",
   "execution_count": 157,
   "metadata": {
    "collapsed": false
   },
   "outputs": [],
   "source": [
    "c = np.array(coeffs)"
   ]
  },
  {
   "cell_type": "code",
   "execution_count": 158,
   "metadata": {
    "collapsed": false
   },
   "outputs": [
    {
     "data": {
      "text/plain": [
       "array([[ 0,  3, -6,  6,  4, -5],\n",
       "       [ 3, -7,  8, -5,  8,  9],\n",
       "       [ 3, -9, 12, -9,  6, 15]])"
      ]
     },
     "execution_count": 158,
     "metadata": {},
     "output_type": "execute_result"
    }
   ],
   "source": [
    "c"
   ]
  },
  {
   "cell_type": "markdown",
   "metadata": {},
   "source": [
    "### Intercambiamos las filas 0 y 3:"
   ]
  },
  {
   "cell_type": "code",
   "execution_count": 159,
   "metadata": {
    "collapsed": true
   },
   "outputs": [],
   "source": [
    "temp = c[0].copy()\n",
    "c[0] = c[2]\n",
    "c[2] = temp"
   ]
  },
  {
   "cell_type": "code",
   "execution_count": 160,
   "metadata": {
    "collapsed": false
   },
   "outputs": [
    {
     "data": {
      "text/plain": [
       "array([[ 3, -9, 12, -9,  6, 15],\n",
       "       [ 3, -7,  8, -5,  8,  9],\n",
       "       [ 0,  3, -6,  6,  4, -5]])"
      ]
     },
     "execution_count": 160,
     "metadata": {},
     "output_type": "execute_result"
    }
   ],
   "source": [
    "c"
   ]
  },
  {
   "cell_type": "markdown",
   "metadata": {},
   "source": [
    "### A la fila 1 le restamos la fila 0:"
   ]
  },
  {
   "cell_type": "code",
   "execution_count": 161,
   "metadata": {
    "collapsed": true
   },
   "outputs": [],
   "source": [
    "c[1] = c[1] - c[0]"
   ]
  },
  {
   "cell_type": "code",
   "execution_count": 162,
   "metadata": {
    "collapsed": false
   },
   "outputs": [
    {
     "data": {
      "text/plain": [
       "array([[ 3, -9, 12, -9,  6, 15],\n",
       "       [ 0,  2, -4,  4,  2, -6],\n",
       "       [ 0,  3, -6,  6,  4, -5]])"
      ]
     },
     "execution_count": 162,
     "metadata": {},
     "output_type": "execute_result"
    }
   ],
   "source": [
    "c"
   ]
  },
  {
   "cell_type": "markdown",
   "metadata": {},
   "source": [
    "### Multiplicamos la fila 1 por 3 y la fila 2 por 2:"
   ]
  },
  {
   "cell_type": "code",
   "execution_count": 163,
   "metadata": {
    "collapsed": false
   },
   "outputs": [
    {
     "data": {
      "text/plain": [
       "array([[  3,  -9,  12,  -9,   6,  15],\n",
       "       [  0,   6, -12,  12,   6, -18],\n",
       "       [  0,   6, -12,  12,   8, -10]])"
      ]
     },
     "execution_count": 163,
     "metadata": {},
     "output_type": "execute_result"
    }
   ],
   "source": [
    "c[1] = c[1] * 3\n",
    "c[2] = c[2] * 2\n",
    "c"
   ]
  },
  {
   "cell_type": "markdown",
   "metadata": {},
   "source": [
    "### A la fila 2 le restamos la fila 1:"
   ]
  },
  {
   "cell_type": "code",
   "execution_count": 164,
   "metadata": {
    "collapsed": false
   },
   "outputs": [
    {
     "data": {
      "text/plain": [
       "array([[  3,  -9,  12,  -9,   6,  15],\n",
       "       [  0,   6, -12,  12,   6, -18],\n",
       "       [  0,   0,   0,   0,   2,   8]])"
      ]
     },
     "execution_count": 164,
     "metadata": {},
     "output_type": "execute_result"
    }
   ],
   "source": [
    "c[2] = c[2] - c[1]\n",
    "c"
   ]
  },
  {
   "cell_type": "markdown",
   "metadata": {},
   "source": [
    "### Convertimos los primeros elementos diferentes de cero a 1:"
   ]
  },
  {
   "cell_type": "code",
   "execution_count": 165,
   "metadata": {
    "collapsed": false
   },
   "outputs": [
    {
     "data": {
      "text/plain": [
       "array([[ 1, -3,  4, -3,  2,  5],\n",
       "       [ 0,  1, -2,  2,  1, -3],\n",
       "       [ 0,  0,  0,  0,  1,  4]])"
      ]
     },
     "execution_count": 165,
     "metadata": {},
     "output_type": "execute_result"
    }
   ],
   "source": [
    "c[0] = c[0] / 3.0\n",
    "c[1] = c[1] / 6.0\n",
    "c[2] = c[2] / 2.0\n",
    "c"
   ]
  },
  {
   "cell_type": "markdown",
   "metadata": {},
   "source": [
    "### Así obtenemos la matriz escalonada:\n",
    "$$\\begin{bmatrix} 1 & -3 & 4 & -3 & 2 & 5 \\\\ 0 & 1 & -2 & 2 & 1 & -3 \\\\ 0 & 0 & 0 & 0 & 1 & 4 \\end{bmatrix}$$"
   ]
  },
  {
   "cell_type": "markdown",
   "metadata": {},
   "source": [
    "### Finalmente obtenemos la forma escalonada reducida:"
   ]
  },
  {
   "cell_type": "code",
   "execution_count": 166,
   "metadata": {
    "collapsed": false
   },
   "outputs": [
    {
     "data": {
      "text/plain": [
       "array([[ 1, -3,  4, -3,  0, -3],\n",
       "       [ 0,  1, -2,  2,  0, -7],\n",
       "       [ 0,  0,  0,  0,  1,  4]])"
      ]
     },
     "execution_count": 166,
     "metadata": {},
     "output_type": "execute_result"
    }
   ],
   "source": [
    "c[0] = c[0] - c[2] * 2\n",
    "c[1] = c[1] - c[2]\n",
    "c"
   ]
  },
  {
   "cell_type": "markdown",
   "metadata": {},
   "source": [
    "$$\\begin{bmatrix} 1 & -3 & 4 & -3 & 0 & -3 \\\\ 0 & 1 & -2 & 2 & 0 & -7 \\\\ 0 & 0 & 0 & 0 & 1 & 4 \\end{bmatrix}$$"
   ]
  },
  {
   "cell_type": "code",
   "execution_count": null,
   "metadata": {
    "collapsed": true
   },
   "outputs": [],
   "source": []
  }
 ],
 "metadata": {
  "kernelspec": {
   "display_name": "Python 2",
   "language": "python",
   "name": "python2"
  },
  "language_info": {
   "codemirror_mode": {
    "name": "ipython",
    "version": 2
   },
   "file_extension": ".py",
   "mimetype": "text/x-python",
   "name": "python",
   "nbconvert_exporter": "python",
   "pygments_lexer": "ipython2",
   "version": "2.7.11"
  }
 },
 "nbformat": 4,
 "nbformat_minor": 0
}
